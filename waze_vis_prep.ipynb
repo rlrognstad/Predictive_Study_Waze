{
 "cells": [
  {
   "cell_type": "code",
   "execution_count": 221,
   "metadata": {
    "collapsed": true
   },
   "outputs": [],
   "source": [
    "import os\n",
    "import pandas as pd\n",
    "import numpy as np"
   ]
  },
  {
   "cell_type": "code",
   "execution_count": 254,
   "metadata": {
    "collapsed": false
   },
   "outputs": [],
   "source": [
    "file_list=os.listdir('/Users/Shuo/study/ISU-phd/2017 Spring/ME 592X/Project/interp_daily')\n",
    "file_list.pop(0)\n",
    "waze = pd.read_csv('Waze2016_I235.csv',delimiter=',',usecols=[2,7,16,17])\n",
    "waze['start'] = pd.to_datetime(waze['start'],format='%m/%d/%Y %H:%M:%S')\n",
    "waze['day'] = waze['start'].map(lambda x: x.dayofyear+(x.year-2017)*366+31)\n",
    "waze['min'] = waze['start'].map(lambda a: a.hour*60+a.minute)\n",
    "waze.loc[waze['dir']=='W','dir']=2\n",
    "waze.loc[waze['dir']=='E','dir']=1\n",
    "del waze['start']\n",
    "waze = waze[['MM','dir','day','min','TMCcrash']]\n",
    "waze= waze.loc[waze['TMCcrash']==1]\n",
    "waze['MM'] = waze['MM'].round(1)\n",
    "waze['min2']=waze['min']\n",
    "waze['min']='a'\n",
    "waze['Speed']='a'\n",
    "waze=waze[['MM','dir','day','min','Speed','TMCcrash','min2']]"
   ]
  },
  {
   "cell_type": "code",
   "execution_count": 255,
   "metadata": {
    "collapsed": false
   },
   "outputs": [],
   "source": [
    "# create vis data for Tableau\n",
    "waze.to_csv('/Users/Shuo/study/ISU-phd/2017 Spring/ME 592X/Project/wave_all.csv' \\\n",
    "                ,header=False,index=False,mode='a')\n",
    "\n",
    "for i in range(122-13):\n",
    "    wave= pd.read_csv('/Users/Shuo/study/ISU-phd/2017 Spring/ME 592X/Project/interp_daily/' \\\n",
    "                   + file_list[i+13],usecols=[0,1,2,3,4],delimiter=',', \\\n",
    "                   header=None,names=['MM','dir','day','min','speed'])\n",
    "    \n",
    "    wave['MM'] = wave['MM'].round(1)\n",
    "    wave['TMCcrash']='a'\n",
    "    wave['min2']='a'\n",
    "    \n",
    "#     final = wave.join(waze.set_index(['MM','dir','day','min']), on=['MM','dir','day','min'])\n",
    "#     final.loc[np.isnan(final['TMCcrash']),'TMCcrash'] = 0\n",
    "\n",
    "    wave.to_csv('/Users/Shuo/study/ISU-phd/2017 Spring/ME 592X/Project/wave_all.csv' \\\n",
    "                ,header=False,index=False,mode='a')"
   ]
  },
  {
   "cell_type": "code",
   "execution_count": null,
   "metadata": {
    "collapsed": true
   },
   "outputs": [],
   "source": [
    "\n",
    "\n"
   ]
  },
  {
   "cell_type": "code",
   "execution_count": 224,
   "metadata": {
    "collapsed": false
   },
   "outputs": [],
   "source": [
    "# # heatmap\n",
    "\n",
    "# direction = 1\n",
    "# wave_window = wave[]\n",
    "\n",
    "# mm_list = list(np.unique(wave_window['MM']))\n",
    "# num_rows = len(mm_list)\n",
    "# num_columns = 60*24\n",
    "\n",
    "# wave_array = np.zeros([num_rows,num_columns])  \n",
    "# for i in range(len(mm_list)):\n",
    "#     mm = mm_list[i]\n",
    "#     wave_one_row = wave_window[wave_window['MM']==mm].sort_values('min', ascending=1)\n",
    "#     wave_array[i,:]=np.array(list(wave_one_row['speed']))\n",
    "    \n"
   ]
  },
  {
   "cell_type": "code",
   "execution_count": 149,
   "metadata": {
    "collapsed": false
   },
   "outputs": [
    {
     "data": {
      "text/plain": [
       "109"
      ]
     },
     "execution_count": 149,
     "metadata": {},
     "output_type": "execute_result"
    }
   ],
   "source": [
    "313920/24/60/2"
   ]
  },
  {
   "cell_type": "code",
   "execution_count": 206,
   "metadata": {
    "collapsed": true
   },
   "outputs": [],
   "source": []
  },
  {
   "cell_type": "code",
   "execution_count": 207,
   "metadata": {
    "collapsed": true
   },
   "outputs": [],
   "source": []
  }
 ],
 "metadata": {
  "anaconda-cloud": {},
  "kernelspec": {
   "display_name": "Python [default]",
   "language": "python",
   "name": "python2"
  },
  "language_info": {
   "codemirror_mode": {
    "name": "ipython",
    "version": 2
   },
   "file_extension": ".py",
   "mimetype": "text/x-python",
   "name": "python",
   "nbconvert_exporter": "python",
   "pygments_lexer": "ipython2",
   "version": "2.7.12"
  }
 },
 "nbformat": 4,
 "nbformat_minor": 1
}
