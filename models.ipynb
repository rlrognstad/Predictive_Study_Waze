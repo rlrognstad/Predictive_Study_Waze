{
 "cells": [
  {
   "cell_type": "code",
   "execution_count": 1,
   "metadata": {
    "collapsed": true
   },
   "outputs": [],
   "source": [
    "import pandas as pd\n",
    "import matplotlib.pyplot as plt\n",
    "import math\n",
    "import numpy as np\n",
    "import csv\n",
    "from pylab import *\n",
    "from matplotlib import gridspec\n",
    "import datetime\n",
    "from pathlib import Path\n",
    "from sklearn.preprocessing import StandardScaler\n",
    "from sklearn.preprocessing import MinMaxScaler\n",
    "import tensorflow as tf\n",
    "from matplotlib import gridspec\n",
    "cdict = {'red': ((0.0, 1.0, 1.0),\n",
    "                 (0.125, 1.0, 1.0),\n",
    "                 (0.25, 1.0, 1.0),\n",
    "                 (0.5625, 1.0, 1.0),\n",
    "                 (1.0, 0.0, 0.0)),\n",
    "         'green': ((0.0, 0.0, 0.0),\n",
    "                   (0.25, 0.0, 0.0),\n",
    "                   (0.5625, 1.0, 1.0),\n",
    "                   (1.0, 1.0, 1.0)),\n",
    "         'blue': ((0.0, 0.0, 0.0),\n",
    "                  (0.5, 0.0, 0.0),\n",
    "                  (1.0, 0.0, 0.0))}\n",
    "my_cmap = matplotlib.colors.LinearSegmentedColormap('my_colormap',cdict,256)\n",
    "%matplotlib inline"
   ]
  },
  {
   "cell_type": "code",
   "execution_count": 2,
   "metadata": {
    "collapsed": false
   },
   "outputs": [
    {
     "name": "stdout",
     "output_type": "stream",
     "text": [
      "(73014, 10, 5, 9)\n",
      "(73014,)\n"
     ]
    }
   ],
   "source": [
    "import pickle\n",
    "(samples,labels) = pickle.load( open( \"data_new.p\", \"rb\" ) )\n",
    "\n",
    "\n",
    "print(samples.shape)\n",
    "print(labels.shape)"
   ]
  },
  {
   "cell_type": "code",
   "execution_count": 3,
   "metadata": {
    "collapsed": false
   },
   "outputs": [
    {
     "name": "stdout",
     "output_type": "stream",
     "text": [
      "(11088, 10, 5, 9)\n",
      "(11088, 2)\n",
      "(2376, 10, 5, 9)\n",
      "(2376, 2)\n",
      "(2376, 10, 5, 9)\n",
      "(2376, 2)\n"
     ]
    }
   ],
   "source": [
    "from sklearn.utils import shuffle\n",
    "def class_balance(samples,labels):\n",
    "    samples0 = samples[labels==0,:,:,:]\n",
    "    samples1 = samples[labels==1,:,:,:]\n",
    "    selected = np.random.choice(len(samples0), len(samples1), replace=False)\n",
    "    samples0 = samples0[selected,:,:,:]\n",
    "    labels0 = np.zeros((len(samples0)))\n",
    "    labels1 = np.ones((len(samples1)))\n",
    "    samples = np.concatenate((samples0,samples1),axis=0)\n",
    "    labels = np.concatenate((labels0,labels1),axis=0)\n",
    "    samples, labels = shuffle(samples, labels)\n",
    "    return samples, labels\n",
    "def one_hot(labels):\n",
    "    one_hot_labels = np.zeros((labels.shape[0],2))\n",
    "    one_hot_labels[labels==0,0]=1\n",
    "    one_hot_labels[labels==1,1]=1\n",
    "    return one_hot_labels\n",
    "\n",
    "\n",
    "samples, labels = class_balance(samples,labels)\n",
    "\n",
    "from sklearn.model_selection import train_test_split\n",
    "samples, samples_rest, labels, labels_rest = \\\n",
    "train_test_split(samples, labels, test_size=0.3, random_state=0)\n",
    "samples_validation, samples_test, labels_validation, labels_test = \\\n",
    "train_test_split(samples_rest, labels_rest, test_size=0.5, random_state=0)\n",
    "\n",
    "one_hot_labels = one_hot(labels)\n",
    "one_hot_labels_validation = one_hot(labels_validation)\n",
    "one_hot_labels_test = one_hot(labels_test)\n",
    "\n",
    "print(samples.shape)\n",
    "print(one_hot_labels.shape)\n",
    "print(samples_validation.shape)\n",
    "print(one_hot_labels_validation.shape)\n",
    "print(samples_test.shape)\n",
    "print(one_hot_labels_test.shape)\n"
   ]
  },
  {
   "cell_type": "code",
   "execution_count": 4,
   "metadata": {
    "collapsed": true
   },
   "outputs": [],
   "source": [
    "def MinMax_Normalization(samples):\n",
    "    samples_shape = samples.shape\n",
    "    samples = np.reshape(samples,(samples_shape[0],samples_shape[1]*samples_shape[2]*samples_shape[3]))\n",
    "    scaler = MinMaxScaler().fit(samples)\n",
    "    samples_normalized = scaler.transform(samples)\n",
    "    samples_normalized = np.reshape(samples_normalized,(samples_shape[0],samples_shape[1],samples_shape[2],samples_shape[3]))\n",
    "    return samples_normalized, scaler\n",
    "\n",
    "def transfer_scale(samples,scaler):\n",
    "    samples_shape = samples.shape\n",
    "    samples = np.reshape(samples,(samples_shape[0],samples_shape[1]*samples_shape[2]*samples_shape[3]))\n",
    "    samples_normalized = scaler.transform(samples)\n",
    "    samples_normalized = np.reshape(samples_normalized,(samples_shape[0],samples_shape[1],samples_shape[2],samples_shape[3]))\n",
    "    return samples_normalized\n",
    "    \n",
    "samples_scaled, scaler = MinMax_Normalization(samples)\n",
    "samples_scaled_validation = transfer_scale(samples_validation,scaler)\n",
    "samples_scaled_test = transfer_scale(samples_test,scaler)"
   ]
  },
  {
   "cell_type": "code",
   "execution_count": 5,
   "metadata": {
    "collapsed": false
   },
   "outputs": [
    {
     "name": "stdout",
     "output_type": "stream",
     "text": [
      "(11088, 10, 5, 5)\n",
      "(2376, 10, 5, 5)\n",
      "(2376, 10, 5, 5)\n"
     ]
    }
   ],
   "source": [
    "def feature_select(samples_scaled,features):\n",
    "    return samples_scaled[:,:,:,features]\n",
    "\n",
    "features = [0,1,2,7,8]\n",
    "samples_scaled = feature_select(samples_scaled,features)\n",
    "samples_scaled_validation = feature_select(samples_scaled_validation,features)\n",
    "samples_scaled_test = feature_select(samples_scaled_test,features)\n",
    "print(samples_scaled.shape)\n",
    "print(samples_scaled_validation.shape)\n",
    "print(samples_scaled_test.shape)"
   ]
  },
  {
   "cell_type": "code",
   "execution_count": 6,
   "metadata": {
    "collapsed": false
   },
   "outputs": [
    {
     "name": "stderr",
     "output_type": "stream",
     "text": [
      "Using TensorFlow backend.\n"
     ]
    }
   ],
   "source": [
    "from keras.models import Sequential\n",
    "from keras.layers import Reshape, Dense, Convolution2D, Deconvolution2D, Flatten, Input, Dropout, MaxPooling2D, Activation\n",
    "from keras.models import model_from_json\n",
    "from keras.activations import relu, softmax, linear\n",
    "from keras.layers.advanced_activations import PReLU\n",
    "from keras.optimizers import Adam\n",
    "from keras.layers.normalization import BatchNormalization\n",
    "from keras.layers.advanced_activations import ELU"
   ]
  },
  {
   "cell_type": "code",
   "execution_count": 19,
   "metadata": {
    "collapsed": false
   },
   "outputs": [
    {
     "name": "stdout",
     "output_type": "stream",
     "text": [
      "Train on 11088 samples, validate on 2376 samples\n",
      "Epoch 1/100\n",
      "1s - loss: 0.6056 - acc: 0.6693 - val_loss: 0.5889 - val_acc: 0.6806\n",
      "Epoch 2/100\n",
      "0s - loss: 0.5778 - acc: 0.6935 - val_loss: 0.5925 - val_acc: 0.6772\n",
      "Epoch 3/100\n",
      "0s - loss: 0.5742 - acc: 0.6959 - val_loss: 0.5888 - val_acc: 0.6831\n",
      "Epoch 4/100\n",
      "0s - loss: 0.5694 - acc: 0.7012 - val_loss: 0.5800 - val_acc: 0.6961\n",
      "Epoch 5/100\n",
      "0s - loss: 0.5672 - acc: 0.7048 - val_loss: 0.5877 - val_acc: 0.7003\n",
      "Epoch 6/100\n",
      "0s - loss: 0.5634 - acc: 0.7057 - val_loss: 0.5852 - val_acc: 0.6860\n",
      "Epoch 7/100\n",
      "0s - loss: 0.5629 - acc: 0.7093 - val_loss: 0.5847 - val_acc: 0.6852\n",
      "Epoch 8/100\n",
      "0s - loss: 0.5612 - acc: 0.7043 - val_loss: 0.5843 - val_acc: 0.6822\n",
      "Epoch 9/100\n",
      "0s - loss: 0.5582 - acc: 0.7047 - val_loss: 0.5782 - val_acc: 0.7016\n",
      "Epoch 10/100\n",
      "0s - loss: 0.5577 - acc: 0.7082 - val_loss: 0.5765 - val_acc: 0.7020\n",
      "Epoch 11/100\n",
      "0s - loss: 0.5542 - acc: 0.7146 - val_loss: 0.5816 - val_acc: 0.6776\n",
      "Epoch 12/100\n",
      "0s - loss: 0.5516 - acc: 0.7130 - val_loss: 0.5707 - val_acc: 0.7079\n",
      "Epoch 13/100\n",
      "0s - loss: 0.5539 - acc: 0.7147 - val_loss: 0.6059 - val_acc: 0.6629\n",
      "Epoch 14/100\n",
      "0s - loss: 0.5479 - acc: 0.7181 - val_loss: 0.5719 - val_acc: 0.6970\n",
      "Epoch 15/100\n",
      "0s - loss: 0.5474 - acc: 0.7168 - val_loss: 0.5673 - val_acc: 0.7029\n",
      "Epoch 16/100\n",
      "0s - loss: 0.5434 - acc: 0.7226 - val_loss: 0.5719 - val_acc: 0.7117\n",
      "Epoch 17/100\n",
      "0s - loss: 0.5437 - acc: 0.7205 - val_loss: 0.5679 - val_acc: 0.6987\n",
      "Epoch 18/100\n",
      "0s - loss: 0.5409 - acc: 0.7206 - val_loss: 0.5736 - val_acc: 0.7121\n",
      "Epoch 19/100\n",
      "0s - loss: 0.5402 - acc: 0.7210 - val_loss: 0.5570 - val_acc: 0.7117\n",
      "Epoch 20/100\n",
      "0s - loss: 0.5380 - acc: 0.7223 - val_loss: 0.5995 - val_acc: 0.7003\n",
      "Epoch 21/100\n",
      "0s - loss: 0.5405 - acc: 0.7230 - val_loss: 0.5540 - val_acc: 0.7146\n",
      "Epoch 22/100\n",
      "0s - loss: 0.5346 - acc: 0.7261 - val_loss: 0.5541 - val_acc: 0.7184\n",
      "Epoch 23/100\n",
      "0s - loss: 0.5318 - acc: 0.7300 - val_loss: 0.5554 - val_acc: 0.7201\n",
      "Epoch 24/100\n",
      "0s - loss: 0.5294 - acc: 0.7256 - val_loss: 0.5567 - val_acc: 0.7189\n",
      "Epoch 25/100\n",
      "0s - loss: 0.5299 - acc: 0.7319 - val_loss: 0.5492 - val_acc: 0.7155\n",
      "Epoch 26/100\n",
      "0s - loss: 0.5258 - acc: 0.7305 - val_loss: 0.5535 - val_acc: 0.7205\n",
      "Epoch 27/100\n",
      "0s - loss: 0.5259 - acc: 0.7321 - val_loss: 0.5467 - val_acc: 0.7243\n",
      "Epoch 28/100\n",
      "0s - loss: 0.5233 - acc: 0.7314 - val_loss: 0.5540 - val_acc: 0.7113\n",
      "Epoch 29/100\n",
      "0s - loss: 0.5235 - acc: 0.7291 - val_loss: 0.5492 - val_acc: 0.7193\n",
      "Epoch 30/100\n",
      "0s - loss: 0.5167 - acc: 0.7371 - val_loss: 0.5535 - val_acc: 0.7092\n",
      "Epoch 31/100\n",
      "0s - loss: 0.5162 - acc: 0.7373 - val_loss: 0.5530 - val_acc: 0.7121\n",
      "Epoch 32/100\n",
      "0s - loss: 0.5136 - acc: 0.7372 - val_loss: 0.5347 - val_acc: 0.7226\n",
      "Epoch 33/100\n",
      "0s - loss: 0.5135 - acc: 0.7410 - val_loss: 0.5384 - val_acc: 0.7306\n",
      "Epoch 34/100\n",
      "0s - loss: 0.5114 - acc: 0.7373 - val_loss: 0.5392 - val_acc: 0.7319\n",
      "Epoch 35/100\n",
      "0s - loss: 0.5101 - acc: 0.7406 - val_loss: 0.5357 - val_acc: 0.7306\n",
      "Epoch 36/100\n",
      "0s - loss: 0.5061 - acc: 0.7450 - val_loss: 0.5351 - val_acc: 0.7378\n",
      "Epoch 37/100\n",
      "0s - loss: 0.5042 - acc: 0.7494 - val_loss: 0.5476 - val_acc: 0.7193\n",
      "Epoch 38/100\n",
      "0s - loss: 0.5020 - acc: 0.7468 - val_loss: 0.5377 - val_acc: 0.7172\n",
      "Epoch 39/100\n",
      "0s - loss: 0.4996 - acc: 0.7499 - val_loss: 0.5298 - val_acc: 0.7357\n",
      "Epoch 40/100\n",
      "0s - loss: 0.4956 - acc: 0.7506 - val_loss: 0.5378 - val_acc: 0.7142\n",
      "Epoch 41/100\n",
      "0s - loss: 0.4936 - acc: 0.7570 - val_loss: 0.5335 - val_acc: 0.7340\n",
      "Epoch 42/100\n",
      "0s - loss: 0.4901 - acc: 0.7577 - val_loss: 0.5272 - val_acc: 0.7290\n",
      "Epoch 43/100\n",
      "0s - loss: 0.4908 - acc: 0.7567 - val_loss: 0.5374 - val_acc: 0.7336\n",
      "Epoch 44/100\n",
      "0s - loss: 0.4888 - acc: 0.7550 - val_loss: 0.5410 - val_acc: 0.7361\n",
      "Epoch 45/100\n",
      "0s - loss: 0.4845 - acc: 0.7595 - val_loss: 0.5275 - val_acc: 0.7353\n",
      "Epoch 46/100\n",
      "0s - loss: 0.4864 - acc: 0.7571 - val_loss: 0.5178 - val_acc: 0.7458\n",
      "Epoch 47/100\n",
      "0s - loss: 0.4811 - acc: 0.7605 - val_loss: 0.5144 - val_acc: 0.7525\n",
      "Epoch 48/100\n",
      "0s - loss: 0.4761 - acc: 0.7653 - val_loss: 0.5115 - val_acc: 0.7529\n",
      "Epoch 49/100\n",
      "0s - loss: 0.4779 - acc: 0.7642 - val_loss: 0.5059 - val_acc: 0.7504\n",
      "Epoch 50/100\n",
      "0s - loss: 0.4790 - acc: 0.7652 - val_loss: 0.5135 - val_acc: 0.7492\n",
      "Epoch 51/100\n",
      "0s - loss: 0.4757 - acc: 0.7643 - val_loss: 0.5237 - val_acc: 0.7348\n",
      "Epoch 52/100\n",
      "0s - loss: 0.4723 - acc: 0.7670 - val_loss: 0.5092 - val_acc: 0.7542\n",
      "Epoch 53/100\n",
      "0s - loss: 0.4731 - acc: 0.7634 - val_loss: 0.5088 - val_acc: 0.7525\n",
      "Epoch 54/100\n",
      "0s - loss: 0.4682 - acc: 0.7675 - val_loss: 0.5145 - val_acc: 0.7399\n",
      "Epoch 55/100\n",
      "0s - loss: 0.4690 - acc: 0.7650 - val_loss: 0.5069 - val_acc: 0.7588\n",
      "Epoch 56/100\n",
      "0s - loss: 0.4669 - acc: 0.7714 - val_loss: 0.5122 - val_acc: 0.7504\n",
      "Epoch 57/100\n",
      "0s - loss: 0.4659 - acc: 0.7676 - val_loss: 0.5153 - val_acc: 0.7525\n",
      "Epoch 58/100\n",
      "0s - loss: 0.4626 - acc: 0.7732 - val_loss: 0.5069 - val_acc: 0.7563\n",
      "Epoch 59/100\n",
      "0s - loss: 0.4655 - acc: 0.7681 - val_loss: 0.5030 - val_acc: 0.7551\n",
      "Epoch 60/100\n",
      "0s - loss: 0.4601 - acc: 0.7724 - val_loss: 0.5210 - val_acc: 0.7370\n",
      "Epoch 61/100\n",
      "0s - loss: 0.4632 - acc: 0.7745 - val_loss: 0.5230 - val_acc: 0.7504\n",
      "Epoch 62/100\n",
      "0s - loss: 0.4585 - acc: 0.7742 - val_loss: 0.5235 - val_acc: 0.7449\n",
      "Epoch 63/100\n",
      "0s - loss: 0.4548 - acc: 0.7767 - val_loss: 0.5091 - val_acc: 0.7517\n",
      "Epoch 64/100\n",
      "0s - loss: 0.4556 - acc: 0.7744 - val_loss: 0.5001 - val_acc: 0.7529\n",
      "Epoch 65/100\n",
      "0s - loss: 0.4509 - acc: 0.7761 - val_loss: 0.4955 - val_acc: 0.7479\n",
      "Epoch 66/100\n",
      "0s - loss: 0.4478 - acc: 0.7772 - val_loss: 0.4903 - val_acc: 0.7618\n",
      "Epoch 67/100\n",
      "0s - loss: 0.4481 - acc: 0.7801 - val_loss: 0.4945 - val_acc: 0.7504\n",
      "Epoch 68/100\n",
      "0s - loss: 0.4437 - acc: 0.7803 - val_loss: 0.4988 - val_acc: 0.7572\n",
      "Epoch 69/100\n",
      "0s - loss: 0.4459 - acc: 0.7799 - val_loss: 0.5011 - val_acc: 0.7580\n",
      "Epoch 70/100\n",
      "0s - loss: 0.4426 - acc: 0.7812 - val_loss: 0.4886 - val_acc: 0.7588\n",
      "Epoch 71/100\n",
      "0s - loss: 0.4411 - acc: 0.7828 - val_loss: 0.5419 - val_acc: 0.7395\n",
      "Epoch 72/100\n",
      "0s - loss: 0.4518 - acc: 0.7765 - val_loss: 0.5051 - val_acc: 0.7584\n",
      "Epoch 73/100\n",
      "0s - loss: 0.4387 - acc: 0.7835 - val_loss: 0.4962 - val_acc: 0.7601\n",
      "Epoch 74/100\n",
      "0s - loss: 0.4397 - acc: 0.7845 - val_loss: 0.4980 - val_acc: 0.7605\n",
      "Epoch 75/100\n",
      "0s - loss: 0.4342 - acc: 0.7884 - val_loss: 0.4792 - val_acc: 0.7694\n",
      "Epoch 76/100\n",
      "0s - loss: 0.4351 - acc: 0.7888 - val_loss: 0.4866 - val_acc: 0.7668\n",
      "Epoch 77/100\n",
      "0s - loss: 0.4289 - acc: 0.7854 - val_loss: 0.4920 - val_acc: 0.7647\n",
      "Epoch 78/100\n",
      "0s - loss: 0.4290 - acc: 0.7872 - val_loss: 0.4827 - val_acc: 0.7698\n",
      "Epoch 79/100\n",
      "0s - loss: 0.4299 - acc: 0.7873 - val_loss: 0.4837 - val_acc: 0.7744\n",
      "Epoch 80/100\n",
      "0s - loss: 0.4252 - acc: 0.7895 - val_loss: 0.4772 - val_acc: 0.7710\n",
      "Epoch 81/100\n",
      "0s - loss: 0.4318 - acc: 0.7890 - val_loss: 0.4992 - val_acc: 0.7639\n",
      "Epoch 82/100\n",
      "0s - loss: 0.4234 - acc: 0.7921 - val_loss: 0.4808 - val_acc: 0.7630\n",
      "Epoch 83/100\n",
      "0s - loss: 0.4176 - acc: 0.7939 - val_loss: 0.4635 - val_acc: 0.7744\n",
      "Epoch 84/100\n",
      "0s - loss: 0.4208 - acc: 0.7941 - val_loss: 0.4844 - val_acc: 0.7635\n",
      "Epoch 85/100\n",
      "0s - loss: 0.4180 - acc: 0.7944 - val_loss: 0.4828 - val_acc: 0.7702\n",
      "Epoch 86/100\n",
      "0s - loss: 0.4165 - acc: 0.7951 - val_loss: 0.4818 - val_acc: 0.7580\n",
      "Epoch 87/100\n",
      "0s - loss: 0.4165 - acc: 0.7973 - val_loss: 0.4694 - val_acc: 0.7673\n",
      "Epoch 88/100\n",
      "0s - loss: 0.4155 - acc: 0.7964 - val_loss: 0.4753 - val_acc: 0.7576\n",
      "Epoch 89/100\n",
      "0s - loss: 0.4099 - acc: 0.8006 - val_loss: 0.4803 - val_acc: 0.7715\n",
      "Epoch 90/100\n",
      "0s - loss: 0.4123 - acc: 0.7992 - val_loss: 0.4954 - val_acc: 0.7580\n",
      "Epoch 91/100\n",
      "0s - loss: 0.4086 - acc: 0.7981 - val_loss: 0.4807 - val_acc: 0.7639\n",
      "Epoch 92/100\n",
      "0s - loss: 0.4024 - acc: 0.8042 - val_loss: 0.5410 - val_acc: 0.7437\n",
      "Epoch 93/100\n",
      "0s - loss: 0.4025 - acc: 0.8046 - val_loss: 0.4762 - val_acc: 0.7689\n",
      "Epoch 94/100\n",
      "0s - loss: 0.3999 - acc: 0.8022 - val_loss: 0.4670 - val_acc: 0.7647\n",
      "Epoch 95/100\n",
      "0s - loss: 0.3985 - acc: 0.8065 - val_loss: 0.4659 - val_acc: 0.7706\n",
      "Epoch 96/100\n",
      "0s - loss: 0.3996 - acc: 0.8046 - val_loss: 0.4670 - val_acc: 0.7727\n",
      "Epoch 97/100\n",
      "0s - loss: 0.3899 - acc: 0.8099 - val_loss: 0.4768 - val_acc: 0.7769\n",
      "Epoch 98/100\n",
      "0s - loss: 0.3910 - acc: 0.8114 - val_loss: 0.4722 - val_acc: 0.7753\n",
      "Epoch 99/100\n",
      "0s - loss: 0.3890 - acc: 0.8073 - val_loss: 0.4549 - val_acc: 0.7778\n",
      "Epoch 100/100\n",
      "0s - loss: 0.3964 - acc: 0.8081 - val_loss: 0.4815 - val_acc: 0.7710\n"
     ]
    },
    {
     "data": {
      "image/png": "[encoded data removed]",
      "text/plain": [
       "<matplotlib.figure.Figure at 0x129227f98>"
      ]
     },
     "metadata": {},
     "output_type": "display_data"
    }
   ],
   "source": [
    "# deep CNN model\n",
    "\n",
    "model = Sequential()\n",
    "# 10*5*5\n",
    "model.add(Convolution2D(16, 3, 3,input_shape=(10, 5, 5),border_mode='valid'))\n",
    "model.add(ELU())\n",
    "# 8*3*16\n",
    "model.add(Convolution2D(32, 3, 3,border_mode='valid'))\n",
    "model.add(ELU())\n",
    "# 6*1*32\n",
    "model.add(Flatten())\n",
    "# 192\n",
    "model.add(Dense(64))\n",
    "model.add(ELU())\n",
    "model.add(Dense(2))\n",
    "model.add(Activation('softmax'))\n",
    "\n",
    "model.compile(loss='categorical_crossentropy', optimizer='adam',metrics=['accuracy'])\n",
    "\n",
    "history_object = model.fit(samples_scaled, one_hot_labels, \\\n",
    "                           validation_data=(samples_scaled_validation, one_hot_labels_validation), \\\n",
    "                           nb_epoch=100, batch_size=64, verbose=2)\n",
    "\n",
    "### plot the training and validation loss for each epoch\n",
    "fig = plt.figure(figsize=(15,11))\n",
    "gs = gridspec.GridSpec(2, 1, wspace=0.2, hspace=0.2)\n",
    "ax0 = plt.subplot(gs[0])\n",
    "plt.plot(history_object.history['loss'])\n",
    "plt.plot(history_object.history['val_loss'])\n",
    "plt.title('model mean squared error loss')\n",
    "plt.ylabel('mean squared error loss')\n",
    "plt.xlabel('epoch')\n",
    "plt.legend(['training set', 'validation set'], loc='upper right')\n",
    "ax1 = plt.subplot(gs[1])\n",
    "plt.plot(history_object.history['acc'])\n",
    "plt.plot(history_object.history['val_acc'])\n",
    "plt.title('model accuracy')\n",
    "plt.ylabel('accuracy')\n",
    "plt.xlabel('epoch')\n",
    "plt.legend(['training set', 'validation set'], loc='upper right')\n",
    "fig.savefig('train_history.png', bbox_inches='tight')\n",
    "\n",
    "\n",
    "from keras.models import load_model\n",
    "model.save('model.h5')"
   ]
  },
  {
   "cell_type": "code",
   "execution_count": 9,
   "metadata": {
    "collapsed": false
   },
   "outputs": [
    {
     "name": "stdout",
     "output_type": "stream",
     "text": [
      "Epoch 1/10\n",
      "11088/11088 [==============================] - 0s - loss: 0.6030 - acc: 0.6678     \n",
      "Epoch 2/10\n",
      "11088/11088 [==============================] - 0s - loss: 0.5740 - acc: 0.6963     \n",
      "Epoch 3/10\n",
      "11088/11088 [==============================] - 0s - loss: 0.5664 - acc: 0.7047     \n",
      "Epoch 4/10\n",
      "11088/11088 [==============================] - 0s - loss: 0.5586 - acc: 0.7119     \n",
      "Epoch 5/10\n",
      "11088/11088 [==============================] - 0s - loss: 0.5567 - acc: 0.7079     \n",
      "Epoch 6/10\n",
      "11088/11088 [==============================] - 0s - loss: 0.5547 - acc: 0.7134     \n",
      "Epoch 7/10\n",
      "11088/11088 [==============================] - 0s - loss: 0.5521 - acc: 0.7163     \n",
      "Epoch 8/10\n",
      "11088/11088 [==============================] - 0s - loss: 0.5523 - acc: 0.7158     \n",
      "Epoch 9/10\n",
      "11088/11088 [==============================] - 0s - loss: 0.5500 - acc: 0.7183     \n",
      "Epoch 10/10\n",
      "11088/11088 [==============================] - 0s - loss: 0.5477 - acc: 0.7187     \n"
     ]
    }
   ],
   "source": [
    "# deep ANN model\n",
    "\n",
    "model = Sequential()\n",
    "model.add(Flatten(input_shape=(10, 5, 5)))\n",
    "# 192\n",
    "model.add(Dense(64))\n",
    "model.add(ELU())\n",
    "model.add(Dense(32))\n",
    "model.add(ELU())\n",
    "model.add(Dense(2))\n",
    "model.add(Activation('softmax'))\n",
    "\n",
    "model.compile(loss='categorical_crossentropy', optimizer='adam',metrics=['accuracy'])\n",
    "\n",
    "history_object = model.fit(samples_scaled, one_hot_labels, nb_epoch=10, batch_size=64, verbose=1)"
   ]
  },
  {
   "cell_type": "code",
   "execution_count": null,
   "metadata": {
    "collapsed": false
   },
   "outputs": [],
   "source": [
    "model.predict(samples_scaled[1:10,:,:,:])"
   ]
  },
  {
   "cell_type": "code",
   "execution_count": null,
   "metadata": {
    "collapsed": false
   },
   "outputs": [],
   "source": [
    "def data_for_shallow(samples_scaled):\n",
    "    num_features = samples_scaled.shape[3]\n",
    "    pave_condition1 = samples_scaled[:,:,:,num_features-2]\n",
    "    pave_condition1 = np.reshape(pave_condition1,(pave_condition1.shape[0],pave_condition1.shape[1]*pave_condition1.shape[2]))\n",
    "    pave_condition1 = np.sum(pave_condition1,axis = 1)\n",
    "    pave_condition1[pave_condition1>0]=1\n",
    "    pave_condition1 = np.reshape(pave_condition1,(pave_condition1.shape[0],1))\n",
    "    pave_condition2 = samples_scaled[:,:,:,num_features-1]\n",
    "    pave_condition2 = np.reshape(pave_condition2,(pave_condition2.shape[0],pave_condition2.shape[1]*pave_condition2.shape[2]))\n",
    "    pave_condition2 = np.sum(pave_condition2,axis = 1)\n",
    "    pave_condition2[pave_condition2>0]=1\n",
    "    pave_condition2 = np.reshape(pave_condition2,(pave_condition2.shape[0],1))\n",
    "    \n",
    "    traffic = samples_scaled[:,:,:,:num_features-2]\n",
    "    data = np.reshape(traffic,(traffic.shape[0],traffic.shape[1]*traffic.shape[2]*traffic.shape[3]))\n",
    "    data = np.concatenate((data,pave_condition1,pave_condition2),axis=1)\n",
    "    return data\n",
    "\n",
    "data_shallow = data_for_shallow(samples_scaled)\n",
    "data_shallow_validation = data_for_shallow(samples_scaled_validation)\n",
    "data_shallow_test = data_for_shallow(samples_scaled_test)"
   ]
  },
  {
   "cell_type": "code",
   "execution_count": null,
   "metadata": {
    "collapsed": false
   },
   "outputs": [],
   "source": [
    "data_shallow.shape"
   ]
  },
  {
   "cell_type": "code",
   "execution_count": null,
   "metadata": {
    "collapsed": false
   },
   "outputs": [],
   "source": [
    "from sklearn.svm import SVC\n",
    "from sklearn.metrics import accuracy_score\n",
    "\n",
    "clf = SVC()\n",
    "clf.fit(data_shallow, labels)\n",
    "pred = clf.predict(data_shallow)\n",
    "acc = accuracy_score(pred, labels)\n",
    "pred_validation = clf.predict(data_shallow_validation)\n",
    "acc_validation = accuracy_score(pred_validation, labels_validation)\n",
    "pred_test = clf.predict(data_shallow_test)\n",
    "acc_test = accuracy_score(pred_test, labels_test)\n",
    "print(acc)\n",
    "print(acc_validation)\n",
    "print(acc_test)"
   ]
  },
  {
   "cell_type": "code",
   "execution_count": null,
   "metadata": {
    "collapsed": false
   },
   "outputs": [],
   "source": [
    "from sklearn import tree\n",
    "\n",
    "clf = tree.DecisionTreeClassifier(min_samples_split=2)\n",
    "clf.fit(data_shallow, labels)\n",
    "pred = clf.predict(data_shallow)\n",
    "acc = accuracy_score(pred, labels)\n",
    "pred_validation = clf.predict(data_shallow_validation)\n",
    "acc_validation = accuracy_score(pred_validation, labels_validation)\n",
    "pred_test = clf.predict(data_shallow_test)\n",
    "acc_test = accuracy_score(pred_test, labels_test)\n",
    "print(acc)\n",
    "print(acc_validation)\n",
    "print(acc_test)"
   ]
  },
  {
   "cell_type": "code",
   "execution_count": null,
   "metadata": {
    "collapsed": true
   },
   "outputs": [],
   "source": []
  }
 ],
 "metadata": {
  "anaconda-cloud": {},
  "kernelspec": {
   "display_name": "Python [conda env:CarND]",
   "language": "python",
   "name": "conda-env-CarND-py"
  },
  "language_info": {
   "codemirror_mode": {
    "name": "ipython",
    "version": 3
   },
   "file_extension": ".py",
   "mimetype": "text/x-python",
   "name": "python",
   "nbconvert_exporter": "python",
   "pygments_lexer": "ipython3",
   "version": "3.5.2"
  }
 },
 "nbformat": 4,
 "nbformat_minor": 1
}
